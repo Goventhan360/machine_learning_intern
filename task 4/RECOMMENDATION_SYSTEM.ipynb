{
  "nbformat": 4,
  "nbformat_minor": 0,
  "metadata": {
    "colab": {
      "provenance": []
    },
    "kernelspec": {
      "name": "python3",
      "display_name": "Python 3"
    },
    "language_info": {
      "name": "python"
    }
  },
  "cells": [
    {
      "cell_type": "code",
      "execution_count": 6,
      "metadata": {
        "colab": {
          "base_uri": "https://localhost:8080/"
        },
        "id": "BplsYbIiOR-D",
        "outputId": "950348a8-03e0-4100-a3b9-aebe01b4215a"
      },
      "outputs": [
        {
          "output_type": "stream",
          "name": "stdout",
          "text": [
            "Enter a movie you like to get recommendations: The Prestige\n",
            "\n",
            "Recommended Movies:\n",
            "2           Interstellar\n",
            "13         Jurassic Park\n",
            "9             The Matrix\n",
            "1              Inception\n",
            "12    Back to the Future\n",
            "Name: Movie, dtype: object\n"
          ]
        }
      ],
      "source": [
        "import pandas as pd\n",
        "from sklearn.feature_extraction.text import TfidfVectorizer\n",
        "from sklearn.metrics.pairwise import linear_kernel\n",
        "\n",
        "# Sample movie data (Movie, Genre)\n",
        "data = {'Movie': ['The Dark Knight', 'Inception', 'Interstellar', 'The Prestige',\n",
        "                   'The Shawshank Redemption', 'The Godfather', 'Pulp Fiction', 'Forrest Gump',\n",
        "                   'Good Will Hunting', 'The Matrix', 'Gladiator', 'Saving Private Ryan',\n",
        "                   'Back to the Future', 'Jurassic Park', 'Toy Story', 'Finding Nemo'],\n",
        "        'Genre': ['Action, Crime, Drama', 'Action, Adventure, Sci-Fi', 'Adventure, Drama, Sci-Fi', 'Drama, Mystery, Sci Fi',\n",
        "                  'Drama', 'Crime, Drama', 'Crime, Drama', 'Drama, Romance',\n",
        "                  'Drama, Romance', 'Action, Sci-Fi', 'Action, Adventure, Drama', 'Drama, War',\n",
        "                  'Adventure, Comedy, Sci-Fi', 'Adventure, Sci-Fi', 'Animation, Adventure, Comedy', 'Animation, Adventure, Comedy']}\n",
        "\n",
        "df = pd.DataFrame(data)\n",
        "\n",
        "# Create a TF-IDF Vectorizer to convert genre strings into numerical data\n",
        "tfidf = TfidfVectorizer(stop_words='english')\n",
        "\n",
        "# Fit and transform the data\n",
        "tfidf_matrix = tfidf.fit_transform(df['Genre'])\n",
        "\n",
        "# Compute the cosine similarity matrix\n",
        "cosine_sim = linear_kernel(tfidf_matrix, tfidf_matrix)\n",
        "\n",
        "# Create a mapping of movie titles to their index\n",
        "indices = pd.Series(df.index, index=df['Movie']).drop_duplicates()\n",
        "\n",
        "def get_recommendations(title, cosine_sim=cosine_sim):\n",
        "    \"\"\"\n",
        "    This function takes a movie title and returns a list of recommended movies.\n",
        "    \"\"\"\n",
        "    try:\n",
        "        # Get the index of the movie that matches the title\n",
        "        idx = indices[title]\n",
        "\n",
        "        # Get the pairwise similarity scores of all movies with that movie\n",
        "        sim_scores = list(enumerate(cosine_sim[idx]))\n",
        "\n",
        "        # Sort the movies based on the similarity scores\n",
        "        sim_scores = sorted(sim_scores, key=lambda x: x[1], reverse=True)\n",
        "\n",
        "        # Get the scores of the 10 most similar movies\n",
        "        sim_scores = sim_scores[1:6]  # Get top 5, excluding the movie itself\n",
        "\n",
        "        # Get the movie indices\n",
        "        movie_indices = [i[0] for i in sim_scores]\n",
        "\n",
        "        # Return the top 10 most similar movies\n",
        "        return df['Movie'].iloc[movie_indices]\n",
        "\n",
        "    except KeyError:\n",
        "        return \"Movie not found in the database. Please try another movie.\"\n",
        "\n",
        "if __name__ == '__main__':\n",
        "    # Get user input for a movie they like\n",
        "    user_movie = input(\"Enter a movie you like to get recommendations: \")\n",
        "\n",
        "    # Get and print the recommendations\n",
        "    recommendations = get_recommendations(user_movie)\n",
        "\n",
        "    print(\"\\nRecommended Movies:\")\n",
        "    print(recommendations)"
      ]
    }
  ]
}